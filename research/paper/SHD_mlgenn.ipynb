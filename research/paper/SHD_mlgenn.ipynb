{
 "cells": [
  {
   "cell_type": "code",
   "execution_count": 1,
   "metadata": {},
   "outputs": [],
   "source": [
    "import numpy as np\n",
    "import matplotlib.pyplot as plt\n",
    "\n",
    "from ml_genn import Connection, Network, Population\n",
    "from ml_genn.callbacks import Checkpoint, SpikeRecorder, VarRecorder\n",
    "from ml_genn.compilers import EventPropCompiler, InferenceCompiler\n",
    "from ml_genn.connectivity import Dense,FixedProbability\n",
    "from ml_genn.initializers import Normal\n",
    "from ml_genn.neurons import LeakyIntegrate, LeakyIntegrateFire, SpikeInput\n",
    "from ml_genn.optimisers import Adam\n",
    "from ml_genn.serialisers import Numpy\n",
    "from ml_genn.synapses import Exponential\n",
    "from tonic.datasets import SHD\n",
    "from tonic import transforms\n",
    "\n",
    "from time import perf_counter\n",
    "from ml_genn.utils.data import (calc_latest_spike_time, calc_max_spikes,\n",
    "                                preprocess_tonic_spikes)\n",
    "\n",
    "from ml_genn.compilers.event_prop_compiler import default_params\n"
   ]
  },
  {
   "cell_type": "code",
   "execution_count": 2,
   "metadata": {},
   "outputs": [
    {
     "name": "stdout",
     "output_type": "stream",
     "text": [
      "Downloading https://zenkelab.org/datasets/shd_train.h5.zip to ./data/SHD/shd_train.h5.zip\n"
     ]
    },
    {
     "data": {
      "application/vnd.jupyter.widget-view+json": {
       "model_id": "188d760d939a40a7ab9328748f68bc49",
       "version_major": 2,
       "version_minor": 0
      },
      "text/plain": [
       "  0%|          | 0/130863613 [00:00<?, ?it/s]"
      ]
     },
     "metadata": {},
     "output_type": "display_data"
    },
    {
     "name": "stdout",
     "output_type": "stream",
     "text": [
      "Extracting ./data/SHD/shd_train.h5.zip to ./data/SHD\n",
      "Downloading https://zenkelab.org/datasets/shd_test.h5.zip to ./data/SHD/shd_test.h5.zip\n"
     ]
    },
    {
     "data": {
      "application/vnd.jupyter.widget-view+json": {
       "model_id": "9ab435c0e7ba48d48acf260f281290a4",
       "version_major": 2,
       "version_minor": 0
      },
      "text/plain": [
       "  0%|          | 0/38141465 [00:00<?, ?it/s]"
      ]
     },
     "metadata": {},
     "output_type": "display_data"
    },
    {
     "name": "stdout",
     "output_type": "stream",
     "text": [
      "Extracting ./data/SHD/shd_test.h5.zip to ./data/SHD\n",
      "Max spikes train 6335, latest spike time train 1367.1875\n",
      "Max spikes test 6797, latest spike time test 1167.96875\n"
     ]
    }
   ],
   "source": [
    "sample_T = 256\n",
    "shd_channels = 700\n",
    "net_channels = 128\n",
    "# note that mlGeNN works in units of ms\n",
    "net_dt = 1000/sample_T\n",
    "\n",
    "\n",
    "NUM_EPOCHS = 100\n",
    "EXAMPLE_TIME = 20.0\n",
    "\n",
    "\n",
    "\n",
    "transform = transforms.Downsample(\n",
    "        time_factor=1,\n",
    "        spatial_factor=net_channels / shd_channels\n",
    "    )\n",
    "\n",
    "# Get SHD dataset\n",
    "dataset= {}\n",
    "dataset[\"train\"] = SHD(save_to='./data', train=True, transform=transform)\n",
    "dataset[\"test\"] = SHD(save_to='./data', train=False, transform=transform)\n",
    "\n",
    "# Preprocess\n",
    "spikes= {}\n",
    "labels= {}\n",
    "for which in [\"train\",\"test\"]:\n",
    "    spikes[which] = []\n",
    "    labels[which] = []\n",
    "    for i in range(len(dataset[which])):\n",
    "        events, label = dataset[which][i]\n",
    "        spikes[which].append(preprocess_tonic_spikes(events, dataset[which].ordering,\n",
    "                                              dataset[which].sensor_size, dt=net_dt, histogram_thresh=1))\n",
    "        labels[which].append(label)\n",
    "\n",
    "# Determine max spikes and latest spike time\n",
    "max_spikes = {}\n",
    "latest_spike_time = {}\n",
    "for which in [\"train\",\"test\"]:\n",
    "    max_spikes[which] = calc_max_spikes(spikes[which])\n",
    "    latest_spike_time[which] = calc_latest_spike_time(spikes[which])\n",
    "\n",
    "for which in [\"train\",\"test\"]:\n",
    "    print(f\"Max spikes {which} {max_spikes[which]}, latest spike time {which} {latest_spike_time[which]}\")\n",
    "\n",
    "# Get number of input and output neurons from dataset \n",
    "# and round up outputs to power-of-two\n",
    "# these are the same for train and test\n",
    "num_input = int(np.prod(dataset[\"train\"].sensor_size))\n",
    "num_output = len(dataset[\"train\"].classes)\n",
    "\n"
   ]
  },
  {
   "cell_type": "code",
   "execution_count": 4,
   "metadata": {},
   "outputs": [],
   "source": [
    "serialiser = Numpy(\"shd_checkpoints\")\n",
    "\n",
    "def benchmark(num_trials, num_hidden, batch_size):\n",
    "\n",
    "    NUM_HIDDEN = num_hidden\n",
    "    BATCH_SIZE = batch_size\n",
    "    \n",
    "    times = []\n",
    "    for i in range(num_trials):\n",
    "        \n",
    "    \n",
    "        network = Network(default_params)\n",
    "        with network:\n",
    "            # Populations\n",
    "            input = Population(SpikeInput(max_spikes=BATCH_SIZE * max_spikes[\"train\"]),\n",
    "                               num_input)\n",
    "            hidden1 = Population(LeakyIntegrateFire(v_thresh=1.0, tau_mem=20.0,\n",
    "                                                   tau_refrac=None),\n",
    "                                NUM_HIDDEN)\n",
    "            hidden2 = Population(LeakyIntegrateFire(v_thresh=1.0, tau_mem=20.0,\n",
    "                                                   tau_refrac=None),\n",
    "                                NUM_HIDDEN)\n",
    "            output = Population(LeakyIntegrate(tau_mem=20.0, readout=\"avg_var_exp_weight\"),\n",
    "                                num_output)\n",
    "        \n",
    "            # Connections\n",
    "            Connection(input, hidden1, Dense(Normal(mean=0.03, sd=0.01)),\n",
    "                       Exponential(5.0))\n",
    "            Connection(hidden1, hidden2, Dense(Normal(mean=0.0, sd=0.02)),\n",
    "                       Exponential(5.0))\n",
    "            Connection(hidden2, hidden1, Dense(Normal(mean=0.0, sd=0.02)),\n",
    "                       Exponential(5.0))\n",
    "            Connection(hidden2, output, Dense(Normal(mean=0.0, sd=0.03)),\n",
    "                       Exponential(5.0))\n",
    "        \n",
    "        max_example_timesteps = int(np.ceil(latest_spike_time[\"train\"] / net_dt))\n",
    "        \n",
    "        compiler = EventPropCompiler(example_timesteps=max_example_timesteps,\n",
    "                                     losses=\"sparse_categorical_crossentropy\",\n",
    "                                     reg_lambda_upper=4e-09, reg_lambda_lower=4e-09, \n",
    "                                     reg_nu_upper=14, max_spikes=1500, \n",
    "                                     optimiser=Adam(0.001), batch_size=BATCH_SIZE, \n",
    "                                     kernel_profiling=KERNEL_PROFILING)\n",
    "        \n",
    "        compiled_net = compiler.compile(network)\n",
    "\n",
    "        with compiled_net:\n",
    "            # Evaluate model on numpy dataset\n",
    "            start_time = perf_counter()\n",
    "            callbacks = [\"batch_progress_bar\", Checkpoint(serialiser)]\n",
    "            metrics, _  = compiled_net.train({input: spikes[\"train\"]},\n",
    "                                             {output: labels[\"train\"]},\n",
    "                                             num_epochs=NUM_EPOCHS, shuffle=True,\n",
    "                                             callbacks=callbacks)\n",
    "            compiled_net.save_connectivity((NUM_EPOCHS - 1,), serialiser)\n",
    "        \n",
    "            end_time = perf_counter()\n",
    "            print(f\"Accuracy = {100 * metrics[output].result}%\")\n",
    "            print(f\"Total Time = {end_time - start_time}s\")\n",
    "        \n",
    "            kernel_time = np.sum([compiled_net.genn_model.neuron_update_time,\n",
    "                compiled_net.genn_model.presynaptic_update_time,\n",
    "                compiled_net.genn_model.get_custom_update_time('GradientBatchReduce'),\n",
    "                compiled_net.genn_model.get_custom_update_time('GradientLearn'),\n",
    "                compiled_net.genn_model.get_custom_update_time('Reset'),\n",
    "                compiled_net.genn_model.get_custom_update_time('BatchSoftmax1'),\n",
    "                compiled_net.genn_model.get_custom_update_time('BatchSoftmax2'),\n",
    "                compiled_net.genn_model.get_custom_update_time('BatchSoftmax3')])\n",
    "            \n",
    "            print(f\"Kernel Time = {kernel_time}s\")\n",
    "            times.append(kernel_time)\n",
    "\n",
    "            \n",
    "\n",
    "    print(np.mean(times), np.std(times))"
   ]
  },
  {
   "cell_type": "code",
   "execution_count": 10,
   "metadata": {},
   "outputs": [
    {
     "name": "stderr",
     "output_type": "stream",
     "text": [
      "./EventPropCompiler_CODE/neuronUpdateCUDAOptim.cc(214): warning #177-D: variable \"lYTrue\" was declared but never referenced\n",
      "\n",
      "./EventPropCompiler_CODE/customUpdateCUDAOptim.cc(455): warning #177-D: variable \"batchOffset\" was declared but never referenced\n",
      "\n",
      "./EventPropCompiler_CODE/neuronUpdateCUDAOptim.cc(214): warning #177-D: variable \"lYTrue\" was declared but never referenced\n",
      "\n",
      "./EventPropCompiler_CODE/customUpdateCUDAOptim.cc(455): warning #177-D: variable \"batchOffset\" was declared but never referenced\n",
      "\n"
     ]
    },
    {
     "name": "stdout",
     "output_type": "stream",
     "text": [
      "make: Entering directory '/opt/genn/EventPropCompiler_CODE'\n"
     ]
    },
    {
     "name": "stderr",
     "output_type": "stream",
     "text": [
      "neuronUpdate.cc(214): warning #177-D: variable \"lYTrue\" was declared but never referenced\n",
      "\n",
      "customUpdate.cc(455): warning #177-D: variable \"batchOffset\" was declared but never referenced\n",
      "\n"
     ]
    },
    {
     "name": "stdout",
     "output_type": "stream",
     "text": [
      "make: Leaving directory '/opt/genn/EventPropCompiler_CODE'\n"
     ]
    },
    {
     "data": {
      "application/vnd.jupyter.widget-view+json": {
       "model_id": "ebad722dbf6f48059d660c8bee4f8425",
       "version_major": 2,
       "version_minor": 0
      },
      "text/plain": [
       "  0%|          | 0/128 [00:00<?, ?it/s]"
      ]
     },
     "metadata": {},
     "output_type": "display_data"
    },
    {
     "name": "stdout",
     "output_type": "stream",
     "text": [
      "Accuracy = 4.977930358018637%\n",
      "Time = 215.60070894099772s\n",
      "make: Entering directory '/opt/genn/EventPropCompiler_CODE'\n"
     ]
    },
    {
     "name": "stderr",
     "output_type": "stream",
     "text": [
      "neuronUpdate.cc(214): warning #177-D: variable \"lYTrue\" was declared but never referenced\n",
      "\n",
      "customUpdate.cc(455): warning #177-D: variable \"batchOffset\" was declared but never referenced\n",
      "\n"
     ]
    },
    {
     "name": "stdout",
     "output_type": "stream",
     "text": [
      "make: Leaving directory '/opt/genn/EventPropCompiler_CODE'\n"
     ]
    },
    {
     "data": {
      "application/vnd.jupyter.widget-view+json": {
       "model_id": "35ce49551b1e454aaeb507f822b4ee2a",
       "version_major": 2,
       "version_minor": 0
      },
      "text/plain": [
       "  0%|          | 0/128 [00:00<?, ?it/s]"
      ]
     },
     "metadata": {},
     "output_type": "display_data"
    },
    {
     "name": "stdout",
     "output_type": "stream",
     "text": [
      "Accuracy = 4.977930358018637%\n",
      "Time = 218.50213174149394s\n"
     ]
    },
    {
     "name": "stderr",
     "output_type": "stream",
     "text": [
      "./EventPropCompiler_CODE/neuronUpdateCUDAOptim.cc(320): warning #177-D: variable \"lYTrue\" was declared but never referenced\n",
      "\n",
      "./EventPropCompiler_CODE/neuronUpdateCUDAOptim.cc(320): warning #177-D: variable \"lYTrue\" was declared but never referenced\n",
      "\n"
     ]
    },
    {
     "name": "stdout",
     "output_type": "stream",
     "text": [
      "make: Entering directory '/opt/genn/EventPropCompiler_CODE'\n"
     ]
    },
    {
     "name": "stderr",
     "output_type": "stream",
     "text": [
      "neuronUpdate.cc(320): warning #177-D: variable \"lYTrue\" was declared but never referenced\n",
      "\n",
      "customUpdate.cc(455): warning #177-D: variable \"batchOffset\" was declared but never referenced\n",
      "\n"
     ]
    },
    {
     "name": "stdout",
     "output_type": "stream",
     "text": [
      "make: Leaving directory '/opt/genn/EventPropCompiler_CODE'\n"
     ]
    },
    {
     "data": {
      "application/vnd.jupyter.widget-view+json": {
       "model_id": "c7c54410f80e445e9b9ddc16ed3888ad",
       "version_major": 2,
       "version_minor": 0
      },
      "text/plain": [
       "  0%|          | 0/128 [00:00<?, ?it/s]"
      ]
     },
     "metadata": {},
     "output_type": "display_data"
    },
    {
     "name": "stdout",
     "output_type": "stream",
     "text": [
      "Accuracy = 4.977930358018637%\n",
      "Time = 214.57843165285885s\n"
     ]
    },
    {
     "name": "stderr",
     "output_type": "stream",
     "text": [
      "./EventPropCompiler_CODE/neuronUpdateCUDAOptim.cc(214): warning #177-D: variable \"lYTrue\" was declared but never referenced\n",
      "\n",
      "./EventPropCompiler_CODE/neuronUpdateCUDAOptim.cc(214): warning #177-D: variable \"lYTrue\" was declared but never referenced\n",
      "\n"
     ]
    },
    {
     "name": "stdout",
     "output_type": "stream",
     "text": [
      "make: Entering directory '/opt/genn/EventPropCompiler_CODE'\n"
     ]
    },
    {
     "name": "stderr",
     "output_type": "stream",
     "text": [
      "neuronUpdate.cc(214): warning #177-D: variable \"lYTrue\" was declared but never referenced\n",
      "\n",
      "customUpdate.cc(455): warning #177-D: variable \"batchOffset\" was declared but never referenced\n",
      "\n"
     ]
    },
    {
     "name": "stdout",
     "output_type": "stream",
     "text": [
      "make: Leaving directory '/opt/genn/EventPropCompiler_CODE'\n"
     ]
    },
    {
     "data": {
      "application/vnd.jupyter.widget-view+json": {
       "model_id": "a09aeadd5d55493db491cdbe2dcc65f4",
       "version_major": 2,
       "version_minor": 0
      },
      "text/plain": [
       "  0%|          | 0/128 [00:00<?, ?it/s]"
      ]
     },
     "metadata": {},
     "output_type": "display_data"
    },
    {
     "name": "stdout",
     "output_type": "stream",
     "text": [
      "Accuracy = 4.977930358018637%\n",
      "Time = 213.85770628787577s\n",
      "make: Entering directory '/opt/genn/EventPropCompiler_CODE'\n"
     ]
    },
    {
     "name": "stderr",
     "output_type": "stream",
     "text": [
      "neuronUpdate.cc(214): warning #177-D: variable \"lYTrue\" was declared but never referenced\n",
      "\n",
      "customUpdate.cc(455): warning #177-D: variable \"batchOffset\" was declared but never referenced\n",
      "\n"
     ]
    },
    {
     "name": "stdout",
     "output_type": "stream",
     "text": [
      "make: Leaving directory '/opt/genn/EventPropCompiler_CODE'\n"
     ]
    },
    {
     "data": {
      "application/vnd.jupyter.widget-view+json": {
       "model_id": "ae2d39bd291d48b49091cde23e57db46",
       "version_major": 2,
       "version_minor": 0
      },
      "text/plain": [
       "  0%|          | 0/128 [00:00<?, ?it/s]"
      ]
     },
     "metadata": {},
     "output_type": "display_data"
    },
    {
     "name": "stdout",
     "output_type": "stream",
     "text": [
      "Accuracy = 4.977930358018637%\n",
      "Time = 216.04864346794784s\n",
      "215.71752441823483 1.5895772665521737\n"
     ]
    }
   ],
   "source": [
    "benchmark(5, 128, 64)"
   ]
  },
  {
   "cell_type": "code",
   "execution_count": 11,
   "metadata": {},
   "outputs": [
    {
     "name": "stderr",
     "output_type": "stream",
     "text": [
      "./EventPropCompiler_CODE/neuronUpdateCUDAOptim.cc(214): warning #177-D: variable \"lYTrue\" was declared but never referenced\n",
      "\n",
      "./EventPropCompiler_CODE/customUpdateCUDAOptim.cc(455): warning #177-D: variable \"batchOffset\" was declared but never referenced\n",
      "\n",
      "./EventPropCompiler_CODE/customUpdateCUDAOptim.cc(455): warning #177-D: variable \"batchOffset\" was declared but never referenced\n",
      "\n",
      "./EventPropCompiler_CODE/neuronUpdateCUDAOptim.cc(214): warning #177-D: variable \"lYTrue\" was declared but never referenced\n",
      "\n"
     ]
    },
    {
     "name": "stdout",
     "output_type": "stream",
     "text": [
      "make: Entering directory '/opt/genn/EventPropCompiler_CODE'\n"
     ]
    },
    {
     "name": "stderr",
     "output_type": "stream",
     "text": [
      "neuronUpdate.cc(214): warning #177-D: variable \"lYTrue\" was declared but never referenced\n",
      "\n",
      "customUpdate.cc(455): warning #177-D: variable \"batchOffset\" was declared but never referenced\n",
      "\n"
     ]
    },
    {
     "name": "stdout",
     "output_type": "stream",
     "text": [
      "make: Leaving directory '/opt/genn/EventPropCompiler_CODE'\n"
     ]
    },
    {
     "data": {
      "application/vnd.jupyter.widget-view+json": {
       "model_id": "3cbd6e53e4a04617b5057430b8ca4468",
       "version_major": 2,
       "version_minor": 0
      },
      "text/plain": [
       "  0%|          | 0/64 [00:00<?, ?it/s]"
      ]
     },
     "metadata": {},
     "output_type": "display_data"
    },
    {
     "name": "stdout",
     "output_type": "stream",
     "text": [
      "Accuracy = 4.977930358018637%\n",
      "Time = 158.73156289756298s\n",
      "make: Entering directory '/opt/genn/EventPropCompiler_CODE'\n"
     ]
    },
    {
     "name": "stderr",
     "output_type": "stream",
     "text": [
      "neuronUpdate.cc(214): warning #177-D: variable \"lYTrue\" was declared but never referenced\n",
      "\n",
      "customUpdate.cc(455): warning #177-D: variable \"batchOffset\" was declared but never referenced\n",
      "\n"
     ]
    },
    {
     "name": "stdout",
     "output_type": "stream",
     "text": [
      "make: Leaving directory '/opt/genn/EventPropCompiler_CODE'\n"
     ]
    },
    {
     "data": {
      "application/vnd.jupyter.widget-view+json": {
       "model_id": "2201e99ce9b34384a1e1c0433174010e",
       "version_major": 2,
       "version_minor": 0
      },
      "text/plain": [
       "  0%|          | 0/64 [00:00<?, ?it/s]"
      ]
     },
     "metadata": {},
     "output_type": "display_data"
    },
    {
     "name": "stdout",
     "output_type": "stream",
     "text": [
      "Accuracy = 4.977930358018637%\n",
      "Time = 160.5546283069998s\n",
      "make: Entering directory '/opt/genn/EventPropCompiler_CODE'\n"
     ]
    },
    {
     "name": "stderr",
     "output_type": "stream",
     "text": [
      "neuronUpdate.cc(214): warning #177-D: variable \"lYTrue\" was declared but never referenced\n",
      "\n",
      "customUpdate.cc(455): warning #177-D: variable \"batchOffset\" was declared but never referenced\n",
      "\n"
     ]
    },
    {
     "name": "stdout",
     "output_type": "stream",
     "text": [
      "make: Leaving directory '/opt/genn/EventPropCompiler_CODE'\n"
     ]
    },
    {
     "data": {
      "application/vnd.jupyter.widget-view+json": {
       "model_id": "f2a8a54834b142278bcf152a8b7ef5ec",
       "version_major": 2,
       "version_minor": 0
      },
      "text/plain": [
       "  0%|          | 0/64 [00:00<?, ?it/s]"
      ]
     },
     "metadata": {},
     "output_type": "display_data"
    },
    {
     "name": "stdout",
     "output_type": "stream",
     "text": [
      "Accuracy = 4.977930358018637%\n",
      "Time = 159.54116126336157s\n",
      "make: Entering directory '/opt/genn/EventPropCompiler_CODE'\n"
     ]
    },
    {
     "name": "stderr",
     "output_type": "stream",
     "text": [
      "neuronUpdate.cc(214): warning #177-D: variable \"lYTrue\" was declared but never referenced\n",
      "\n",
      "customUpdate.cc(455): warning #177-D: variable \"batchOffset\" was declared but never referenced\n",
      "\n"
     ]
    },
    {
     "name": "stdout",
     "output_type": "stream",
     "text": [
      "make: Leaving directory '/opt/genn/EventPropCompiler_CODE'\n"
     ]
    },
    {
     "data": {
      "application/vnd.jupyter.widget-view+json": {
       "model_id": "f6ec1059d24a46f4afa5f14dd587fc6e",
       "version_major": 2,
       "version_minor": 0
      },
      "text/plain": [
       "  0%|          | 0/64 [00:00<?, ?it/s]"
      ]
     },
     "metadata": {},
     "output_type": "display_data"
    },
    {
     "name": "stdout",
     "output_type": "stream",
     "text": [
      "Accuracy = 4.977930358018637%\n",
      "Time = 162.65104128792882s\n",
      "make: Entering directory '/opt/genn/EventPropCompiler_CODE'\n"
     ]
    },
    {
     "name": "stderr",
     "output_type": "stream",
     "text": [
      "neuronUpdate.cc(214): warning #177-D: variable \"lYTrue\" was declared but never referenced\n",
      "\n",
      "customUpdate.cc(455): warning #177-D: variable \"batchOffset\" was declared but never referenced\n",
      "\n"
     ]
    },
    {
     "name": "stdout",
     "output_type": "stream",
     "text": [
      "make: Leaving directory '/opt/genn/EventPropCompiler_CODE'\n"
     ]
    },
    {
     "data": {
      "application/vnd.jupyter.widget-view+json": {
       "model_id": "b974ad49a1fd479983e222b63ad9c1fe",
       "version_major": 2,
       "version_minor": 0
      },
      "text/plain": [
       "  0%|          | 0/64 [00:00<?, ?it/s]"
      ]
     },
     "metadata": {},
     "output_type": "display_data"
    },
    {
     "name": "stdout",
     "output_type": "stream",
     "text": [
      "Accuracy = 4.977930358018637%\n",
      "Time = 162.64246773160994s\n",
      "160.82417229749262 1.5963354266028158\n"
     ]
    }
   ],
   "source": [
    "benchmark(5, 128, 128)"
   ]
  },
  {
   "cell_type": "code",
   "execution_count": 12,
   "metadata": {},
   "outputs": [
    {
     "name": "stderr",
     "output_type": "stream",
     "text": [
      "./EventPropCompiler_CODE/neuronUpdateCUDAOptim.cc(214): warning #177-D: variable \"lYTrue\" was declared but never referenced\n",
      "\n",
      "./EventPropCompiler_CODE/customUpdateCUDAOptim.cc(455): warning #177-D: variable \"batchOffset\" was declared but never referenced\n",
      "\n",
      "./EventPropCompiler_CODE/neuronUpdateCUDAOptim.cc(214): warning #177-D: variable \"lYTrue\" was declared but never referenced\n",
      "\n",
      "./EventPropCompiler_CODE/customUpdateCUDAOptim.cc(455): warning #177-D: variable \"batchOffset\" was declared but never referenced\n",
      "\n"
     ]
    },
    {
     "name": "stdout",
     "output_type": "stream",
     "text": [
      "make: Entering directory '/opt/genn/EventPropCompiler_CODE'\n"
     ]
    },
    {
     "name": "stderr",
     "output_type": "stream",
     "text": [
      "neuronUpdate.cc(214): warning #177-D: variable \"lYTrue\" was declared but never referenced\n",
      "\n",
      "customUpdate.cc(455): warning #177-D: variable \"batchOffset\" was declared but never referenced\n",
      "\n"
     ]
    },
    {
     "name": "stdout",
     "output_type": "stream",
     "text": [
      "make: Leaving directory '/opt/genn/EventPropCompiler_CODE'\n"
     ]
    },
    {
     "data": {
      "application/vnd.jupyter.widget-view+json": {
       "model_id": "2b4ca20bd3e04046be08319d55c34b0d",
       "version_major": 2,
       "version_minor": 0
      },
      "text/plain": [
       "  0%|          | 0/32 [00:00<?, ?it/s]"
      ]
     },
     "metadata": {},
     "output_type": "display_data"
    },
    {
     "name": "stdout",
     "output_type": "stream",
     "text": [
      "Accuracy = 4.977930358018637%\n",
      "Time = 123.82656937651336s\n",
      "make: Entering directory '/opt/genn/EventPropCompiler_CODE'\n"
     ]
    },
    {
     "name": "stderr",
     "output_type": "stream",
     "text": [
      "customUpdate.cc(455): warning #177-D: variable \"batchOffset\" was declared but never referenced\n",
      "\n",
      "neuronUpdate.cc(214): warning #177-D: variable \"lYTrue\" was declared but never referenced\n",
      "\n"
     ]
    },
    {
     "name": "stdout",
     "output_type": "stream",
     "text": [
      "make: Leaving directory '/opt/genn/EventPropCompiler_CODE'\n"
     ]
    },
    {
     "data": {
      "application/vnd.jupyter.widget-view+json": {
       "model_id": "a14cf1f2b1a24034a068aa8ebd01324a",
       "version_major": 2,
       "version_minor": 0
      },
      "text/plain": [
       "  0%|          | 0/32 [00:00<?, ?it/s]"
      ]
     },
     "metadata": {},
     "output_type": "display_data"
    },
    {
     "name": "stdout",
     "output_type": "stream",
     "text": [
      "Accuracy = 4.977930358018637%\n",
      "Time = 124.93158670514822s\n",
      "make: Entering directory '/opt/genn/EventPropCompiler_CODE'\n"
     ]
    },
    {
     "name": "stderr",
     "output_type": "stream",
     "text": [
      "neuronUpdate.cc(214): warning #177-D: variable \"lYTrue\" was declared but never referenced\n",
      "\n",
      "customUpdate.cc(455): warning #177-D: variable \"batchOffset\" was declared but never referenced\n",
      "\n"
     ]
    },
    {
     "name": "stdout",
     "output_type": "stream",
     "text": [
      "make: Leaving directory '/opt/genn/EventPropCompiler_CODE'\n"
     ]
    },
    {
     "data": {
      "application/vnd.jupyter.widget-view+json": {
       "model_id": "d163a71c44694d7599e65a7d64cf06b3",
       "version_major": 2,
       "version_minor": 0
      },
      "text/plain": [
       "  0%|          | 0/32 [00:00<?, ?it/s]"
      ]
     },
     "metadata": {},
     "output_type": "display_data"
    },
    {
     "name": "stdout",
     "output_type": "stream",
     "text": [
      "Accuracy = 4.977930358018637%\n",
      "Time = 123.78426889330149s\n",
      "make: Entering directory '/opt/genn/EventPropCompiler_CODE'\n"
     ]
    },
    {
     "name": "stderr",
     "output_type": "stream",
     "text": [
      "neuronUpdate.cc(214): warning #177-D: variable \"lYTrue\" was declared but never referenced\n",
      "\n",
      "customUpdate.cc(455): warning #177-D: variable \"batchOffset\" was declared but never referenced\n",
      "\n"
     ]
    },
    {
     "name": "stdout",
     "output_type": "stream",
     "text": [
      "make: Leaving directory '/opt/genn/EventPropCompiler_CODE'\n"
     ]
    },
    {
     "data": {
      "application/vnd.jupyter.widget-view+json": {
       "model_id": "8637b8a4db8c42b88057393201a7c1e7",
       "version_major": 2,
       "version_minor": 0
      },
      "text/plain": [
       "  0%|          | 0/32 [00:00<?, ?it/s]"
      ]
     },
     "metadata": {},
     "output_type": "display_data"
    },
    {
     "name": "stdout",
     "output_type": "stream",
     "text": [
      "Accuracy = 4.977930358018637%\n",
      "Time = 122.86032863892615s\n",
      "make: Entering directory '/opt/genn/EventPropCompiler_CODE'\n"
     ]
    },
    {
     "name": "stderr",
     "output_type": "stream",
     "text": [
      "neuronUpdate.cc(214): warning #177-D: variable \"lYTrue\" was declared but never referenced\n",
      "\n",
      "customUpdate.cc(455): warning #177-D: variable \"batchOffset\" was declared but never referenced\n",
      "\n"
     ]
    },
    {
     "name": "stdout",
     "output_type": "stream",
     "text": [
      "make: Leaving directory '/opt/genn/EventPropCompiler_CODE'\n"
     ]
    },
    {
     "data": {
      "application/vnd.jupyter.widget-view+json": {
       "model_id": "184d6b3ca80f416693c08e3090913551",
       "version_major": 2,
       "version_minor": 0
      },
      "text/plain": [
       "  0%|          | 0/32 [00:00<?, ?it/s]"
      ]
     },
     "metadata": {},
     "output_type": "display_data"
    },
    {
     "name": "stdout",
     "output_type": "stream",
     "text": [
      "Accuracy = 4.977930358018637%\n",
      "Time = 121.87257836386561s\n",
      "123.45506639555097 1.028054701231875\n"
     ]
    }
   ],
   "source": [
    "benchmark(5, 128, 256)"
   ]
  },
  {
   "cell_type": "code",
   "execution_count": 13,
   "metadata": {},
   "outputs": [
    {
     "name": "stderr",
     "output_type": "stream",
     "text": [
      "./EventPropCompiler_CODE/customUpdateCUDAOptim.cc(455): warning #177-D: variable \"batchOffset\" was declared but never referenced\n",
      "\n",
      "./EventPropCompiler_CODE/neuronUpdateCUDAOptim.cc(214): warning #177-D: variable \"lYTrue\" was declared but never referenced\n",
      "\n",
      "./EventPropCompiler_CODE/neuronUpdateCUDAOptim.cc(214): warning #177-D: variable \"lYTrue\" was declared but never referenced\n",
      "\n",
      "./EventPropCompiler_CODE/customUpdateCUDAOptim.cc(455): warning #177-D: variable \"batchOffset\" was declared but never referenced\n",
      "\n"
     ]
    },
    {
     "name": "stdout",
     "output_type": "stream",
     "text": [
      "make: Entering directory '/opt/genn/EventPropCompiler_CODE'\n"
     ]
    },
    {
     "name": "stderr",
     "output_type": "stream",
     "text": [
      "neuronUpdate.cc(214): warning #177-D: variable \"lYTrue\" was declared but never referenced\n",
      "\n",
      "customUpdate.cc(455): warning #177-D: variable \"batchOffset\" was declared but never referenced\n",
      "\n"
     ]
    },
    {
     "name": "stdout",
     "output_type": "stream",
     "text": [
      "make: Leaving directory '/opt/genn/EventPropCompiler_CODE'\n"
     ]
    },
    {
     "data": {
      "application/vnd.jupyter.widget-view+json": {
       "model_id": "9e1d23d26ff348469ccb7c04ff18d3f9",
       "version_major": 2,
       "version_minor": 0
      },
      "text/plain": [
       "  0%|          | 0/128 [00:00<?, ?it/s]"
      ]
     },
     "metadata": {},
     "output_type": "display_data"
    },
    {
     "name": "stdout",
     "output_type": "stream",
     "text": [
      "Accuracy = 4.977930358018637%\n",
      "Time = 732.3393701408058s\n",
      "make: Entering directory '/opt/genn/EventPropCompiler_CODE'\n"
     ]
    },
    {
     "name": "stderr",
     "output_type": "stream",
     "text": [
      "customUpdate.cc(455): warning #177-D: variable \"batchOffset\" was declared but never referenced\n",
      "\n",
      "neuronUpdate.cc(214): warning #177-D: variable \"lYTrue\" was declared but never referenced\n",
      "\n"
     ]
    },
    {
     "name": "stdout",
     "output_type": "stream",
     "text": [
      "make: Leaving directory '/opt/genn/EventPropCompiler_CODE'\n"
     ]
    },
    {
     "data": {
      "application/vnd.jupyter.widget-view+json": {
       "model_id": "9fd463b4248e44b59124d5a2abbef6e6",
       "version_major": 2,
       "version_minor": 0
      },
      "text/plain": [
       "  0%|          | 0/128 [00:00<?, ?it/s]"
      ]
     },
     "metadata": {},
     "output_type": "display_data"
    },
    {
     "name": "stdout",
     "output_type": "stream",
     "text": [
      "Accuracy = 4.977930358018637%\n",
      "Time = 733.7367905993015s\n",
      "make: Entering directory '/opt/genn/EventPropCompiler_CODE'\n"
     ]
    },
    {
     "name": "stderr",
     "output_type": "stream",
     "text": [
      "neuronUpdate.cc(214): warning #177-D: variable \"lYTrue\" was declared but never referenced\n",
      "\n",
      "customUpdate.cc(455): warning #177-D: variable \"batchOffset\" was declared but never referenced\n",
      "\n"
     ]
    },
    {
     "name": "stdout",
     "output_type": "stream",
     "text": [
      "make: Leaving directory '/opt/genn/EventPropCompiler_CODE'\n"
     ]
    },
    {
     "data": {
      "application/vnd.jupyter.widget-view+json": {
       "model_id": "fe748e47963c4c45a4e47124c742505f",
       "version_major": 2,
       "version_minor": 0
      },
      "text/plain": [
       "  0%|          | 0/128 [00:00<?, ?it/s]"
      ]
     },
     "metadata": {},
     "output_type": "display_data"
    },
    {
     "name": "stdout",
     "output_type": "stream",
     "text": [
      "Accuracy = 4.977930358018637%\n",
      "Time = 734.5784377194941s\n",
      "make: Entering directory '/opt/genn/EventPropCompiler_CODE'\n"
     ]
    },
    {
     "name": "stderr",
     "output_type": "stream",
     "text": [
      "neuronUpdate.cc(214): warning #177-D: variable \"lYTrue\" was declared but never referenced\n",
      "\n",
      "customUpdate.cc(455): warning #177-D: variable \"batchOffset\" was declared but never referenced\n",
      "\n"
     ]
    },
    {
     "name": "stdout",
     "output_type": "stream",
     "text": [
      "make: Leaving directory '/opt/genn/EventPropCompiler_CODE'\n"
     ]
    },
    {
     "data": {
      "application/vnd.jupyter.widget-view+json": {
       "model_id": "10b5bc9b4bbe4656a728a9e99acebf8d",
       "version_major": 2,
       "version_minor": 0
      },
      "text/plain": [
       "  0%|          | 0/128 [00:00<?, ?it/s]"
      ]
     },
     "metadata": {},
     "output_type": "display_data"
    },
    {
     "name": "stdout",
     "output_type": "stream",
     "text": [
      "Accuracy = 8.288376655223148%\n",
      "Time = 521.0588604919612s\n",
      "make: Entering directory '/opt/genn/EventPropCompiler_CODE'\n"
     ]
    },
    {
     "name": "stderr",
     "output_type": "stream",
     "text": [
      "customUpdate.cc(455): warning #177-D: variable \"batchOffset\" was declared but never referenced\n",
      "\n",
      "neuronUpdate.cc(214): warning #177-D: variable \"lYTrue\" was declared but never referenced\n",
      "\n"
     ]
    },
    {
     "name": "stdout",
     "output_type": "stream",
     "text": [
      "make: Leaving directory '/opt/genn/EventPropCompiler_CODE'\n"
     ]
    },
    {
     "data": {
      "application/vnd.jupyter.widget-view+json": {
       "model_id": "324c94551c60408f8b6516aaa603f248",
       "version_major": 2,
       "version_minor": 0
      },
      "text/plain": [
       "  0%|          | 0/128 [00:00<?, ?it/s]"
      ]
     },
     "metadata": {},
     "output_type": "display_data"
    },
    {
     "name": "stdout",
     "output_type": "stream",
     "text": [
      "Accuracy = 4.977930358018637%\n",
      "Time = 732.967384962365s\n",
      "690.9361687827856 84.94196719429978\n"
     ]
    }
   ],
   "source": [
    "benchmark(5, 512, 64)"
   ]
  },
  {
   "cell_type": "code",
   "execution_count": 14,
   "metadata": {},
   "outputs": [
    {
     "name": "stderr",
     "output_type": "stream",
     "text": [
      "./EventPropCompiler_CODE/neuronUpdateCUDAOptim.cc(214): warning #177-D: variable \"lYTrue\" was declared but never referenced\n",
      "\n",
      "./EventPropCompiler_CODE/customUpdateCUDAOptim.cc(455): warning #177-D: variable \"batchOffset\" was declared but never referenced\n",
      "\n",
      "./EventPropCompiler_CODE/customUpdateCUDAOptim.cc(455): warning #177-D: variable \"batchOffset\" was declared but never referenced\n",
      "\n",
      "./EventPropCompiler_CODE/neuronUpdateCUDAOptim.cc(214): warning #177-D: variable \"lYTrue\" was declared but never referenced\n",
      "\n"
     ]
    },
    {
     "name": "stdout",
     "output_type": "stream",
     "text": [
      "make: Entering directory '/opt/genn/EventPropCompiler_CODE'\n"
     ]
    },
    {
     "name": "stderr",
     "output_type": "stream",
     "text": [
      "customUpdate.cc(455): warning #177-D: variable \"batchOffset\" was declared but never referenced\n",
      "\n",
      "neuronUpdate.cc(214): warning #177-D: variable \"lYTrue\" was declared but never referenced\n",
      "\n"
     ]
    },
    {
     "name": "stdout",
     "output_type": "stream",
     "text": [
      "make: Leaving directory '/opt/genn/EventPropCompiler_CODE'\n"
     ]
    },
    {
     "data": {
      "application/vnd.jupyter.widget-view+json": {
       "model_id": "8a66c6a17dd74fedb61c28a712ac5650",
       "version_major": 2,
       "version_minor": 0
      },
      "text/plain": [
       "  0%|          | 0/64 [00:00<?, ?it/s]"
      ]
     },
     "metadata": {},
     "output_type": "display_data"
    },
    {
     "name": "stdout",
     "output_type": "stream",
     "text": [
      "Accuracy = 8.374203040706227%\n",
      "Time = 402.4214499145746s\n",
      "make: Entering directory '/opt/genn/EventPropCompiler_CODE'\n"
     ]
    },
    {
     "name": "stderr",
     "output_type": "stream",
     "text": [
      "customUpdate.cc(455): warning #177-D: variable \"batchOffset\" was declared but never referenced\n",
      "\n",
      "neuronUpdate.cc(214): warning #177-D: variable \"lYTrue\" was declared but never referenced\n",
      "\n"
     ]
    },
    {
     "name": "stdout",
     "output_type": "stream",
     "text": [
      "make: Leaving directory '/opt/genn/EventPropCompiler_CODE'\n"
     ]
    },
    {
     "data": {
      "application/vnd.jupyter.widget-view+json": {
       "model_id": "4944b192b815455db3b3e23b21b34efc",
       "version_major": 2,
       "version_minor": 0
      },
      "text/plain": [
       "  0%|          | 0/64 [00:00<?, ?it/s]"
      ]
     },
     "metadata": {},
     "output_type": "display_data"
    },
    {
     "name": "stdout",
     "output_type": "stream",
     "text": [
      "Accuracy = 8.128984796468858%\n",
      "Time = 399.5823627784848s\n",
      "make: Entering directory '/opt/genn/EventPropCompiler_CODE'\n"
     ]
    },
    {
     "name": "stderr",
     "output_type": "stream",
     "text": [
      "neuronUpdate.cc(214): warning #177-D: variable \"lYTrue\" was declared but never referenced\n",
      "\n",
      "customUpdate.cc(455): warning #177-D: variable \"batchOffset\" was declared but never referenced\n",
      "\n"
     ]
    },
    {
     "name": "stdout",
     "output_type": "stream",
     "text": [
      "make: Leaving directory '/opt/genn/EventPropCompiler_CODE'\n"
     ]
    },
    {
     "data": {
      "application/vnd.jupyter.widget-view+json": {
       "model_id": "55672da7c597429c88eacf6315cb3b1d",
       "version_major": 2,
       "version_minor": 0
      },
      "text/plain": [
       "  0%|          | 0/64 [00:00<?, ?it/s]"
      ]
     },
     "metadata": {},
     "output_type": "display_data"
    },
    {
     "name": "stdout",
     "output_type": "stream",
     "text": [
      "Accuracy = 7.736635605689063%\n",
      "Time = 393.9364239759743s\n",
      "make: Entering directory '/opt/genn/EventPropCompiler_CODE'\n"
     ]
    },
    {
     "name": "stderr",
     "output_type": "stream",
     "text": [
      "neuronUpdate.cc(214): warning #177-D: variable \"lYTrue\" was declared but never referenced\n",
      "\n",
      "customUpdate.cc(455): warning #177-D: variable \"batchOffset\" was declared but never referenced\n",
      "\n"
     ]
    },
    {
     "name": "stdout",
     "output_type": "stream",
     "text": [
      "make: Leaving directory '/opt/genn/EventPropCompiler_CODE'\n"
     ]
    },
    {
     "data": {
      "application/vnd.jupyter.widget-view+json": {
       "model_id": "54821e128fcc49a2aab0079aefa15143",
       "version_major": 2,
       "version_minor": 0
      },
      "text/plain": [
       "  0%|          | 0/64 [00:00<?, ?it/s]"
      ]
     },
     "metadata": {},
     "output_type": "display_data"
    },
    {
     "name": "stdout",
     "output_type": "stream",
     "text": [
      "Accuracy = 8.055419323197647%\n",
      "Time = 398.9263070188463s\n",
      "make: Entering directory '/opt/genn/EventPropCompiler_CODE'\n"
     ]
    },
    {
     "name": "stderr",
     "output_type": "stream",
     "text": [
      "neuronUpdate.cc(214): warning #177-D: variable \"lYTrue\" was declared but never referenced\n",
      "\n",
      "customUpdate.cc(455): warning #177-D: variable \"batchOffset\" was declared but never referenced\n",
      "\n"
     ]
    },
    {
     "name": "stdout",
     "output_type": "stream",
     "text": [
      "make: Leaving directory '/opt/genn/EventPropCompiler_CODE'\n"
     ]
    },
    {
     "data": {
      "application/vnd.jupyter.widget-view+json": {
       "model_id": "2e24ca5898d84deba966c1d15c91f9df",
       "version_major": 2,
       "version_minor": 0
      },
      "text/plain": [
       "  0%|          | 0/64 [00:00<?, ?it/s]"
      ]
     },
     "metadata": {},
     "output_type": "display_data"
    },
    {
     "name": "stdout",
     "output_type": "stream",
     "text": [
      "Accuracy = 4.977930358018637%\n",
      "Time = 497.083568720147s\n",
      "418.3900224816054 39.44163356765095\n"
     ]
    }
   ],
   "source": [
    "benchmark(5, 512, 128)"
   ]
  },
  {
   "cell_type": "code",
   "execution_count": 15,
   "metadata": {},
   "outputs": [
    {
     "name": "stderr",
     "output_type": "stream",
     "text": [
      "./EventPropCompiler_CODE/neuronUpdateCUDAOptim.cc(214): warning #177-D: variable \"lYTrue\" was declared but never referenced\n",
      "\n",
      "./EventPropCompiler_CODE/customUpdateCUDAOptim.cc(455): warning #177-D: variable \"batchOffset\" was declared but never referenced\n",
      "\n",
      "./EventPropCompiler_CODE/customUpdateCUDAOptim.cc(455): warning #177-D: variable \"batchOffset\" was declared but never referenced\n",
      "\n",
      "./EventPropCompiler_CODE/neuronUpdateCUDAOptim.cc(214): warning #177-D: variable \"lYTrue\" was declared but never referenced\n",
      "\n"
     ]
    },
    {
     "name": "stdout",
     "output_type": "stream",
     "text": [
      "make: Entering directory '/opt/genn/EventPropCompiler_CODE'\n"
     ]
    },
    {
     "name": "stderr",
     "output_type": "stream",
     "text": [
      "neuronUpdate.cc(214): warning #177-D: variable \"lYTrue\" was declared but never referenced\n",
      "\n",
      "customUpdate.cc(455): warning #177-D: variable \"batchOffset\" was declared but never referenced\n",
      "\n"
     ]
    },
    {
     "name": "stdout",
     "output_type": "stream",
     "text": [
      "make: Leaving directory '/opt/genn/EventPropCompiler_CODE'\n"
     ]
    },
    {
     "data": {
      "application/vnd.jupyter.widget-view+json": {
       "model_id": "c592131f562d41cba9e7c6f78c5bba4c",
       "version_major": 2,
       "version_minor": 0
      },
      "text/plain": [
       "  0%|          | 0/32 [00:00<?, ?it/s]"
      ]
     },
     "metadata": {},
     "output_type": "display_data"
    },
    {
     "name": "stdout",
     "output_type": "stream",
     "text": [
      "Accuracy = 4.977930358018637%\n",
      "Time = 368.60786990635097s\n",
      "make: Entering directory '/opt/genn/EventPropCompiler_CODE'\n"
     ]
    },
    {
     "name": "stderr",
     "output_type": "stream",
     "text": [
      "neuronUpdate.cc(214): warning #177-D: variable \"lYTrue\" was declared but never referenced\n",
      "\n",
      "customUpdate.cc(455): warning #177-D: variable \"batchOffset\" was declared but never referenced\n",
      "\n"
     ]
    },
    {
     "name": "stdout",
     "output_type": "stream",
     "text": [
      "make: Leaving directory '/opt/genn/EventPropCompiler_CODE'\n"
     ]
    },
    {
     "data": {
      "application/vnd.jupyter.widget-view+json": {
       "model_id": "df92bbccef56482a834a746661d78cb4",
       "version_major": 2,
       "version_minor": 0
      },
      "text/plain": [
       "  0%|          | 0/32 [00:00<?, ?it/s]"
      ]
     },
     "metadata": {},
     "output_type": "display_data"
    },
    {
     "name": "stdout",
     "output_type": "stream",
     "text": [
      "Accuracy = 7.4668955370279555%\n",
      "Time = 319.77090207859874s\n",
      "make: Entering directory '/opt/genn/EventPropCompiler_CODE'\n"
     ]
    },
    {
     "name": "stderr",
     "output_type": "stream",
     "text": [
      "neuronUpdate.cc(214): warning #177-D: variable \"lYTrue\" was declared but never referenced\n",
      "\n",
      "customUpdate.cc(455): warning #177-D: variable \"batchOffset\" was declared but never referenced\n",
      "\n"
     ]
    },
    {
     "name": "stdout",
     "output_type": "stream",
     "text": [
      "make: Leaving directory '/opt/genn/EventPropCompiler_CODE'\n"
     ]
    },
    {
     "data": {
      "application/vnd.jupyter.widget-view+json": {
       "model_id": "89123994085e4c61948575498e300e73",
       "version_major": 2,
       "version_minor": 0
      },
      "text/plain": [
       "  0%|          | 0/32 [00:00<?, ?it/s]"
      ]
     },
     "metadata": {},
     "output_type": "display_data"
    },
    {
     "name": "stdout",
     "output_type": "stream",
     "text": [
      "Accuracy = 4.977930358018637%\n",
      "Time = 368.3075149767101s\n",
      "make: Entering directory '/opt/genn/EventPropCompiler_CODE'\n"
     ]
    },
    {
     "name": "stderr",
     "output_type": "stream",
     "text": [
      "neuronUpdate.cc(214): warning #177-D: variable \"lYTrue\" was declared but never referenced\n",
      "\n",
      "customUpdate.cc(455): warning #177-D: variable \"batchOffset\" was declared but never referenced\n",
      "\n"
     ]
    },
    {
     "name": "stdout",
     "output_type": "stream",
     "text": [
      "make: Leaving directory '/opt/genn/EventPropCompiler_CODE'\n"
     ]
    },
    {
     "data": {
      "application/vnd.jupyter.widget-view+json": {
       "model_id": "e88405eb8b274d15b38748a6d7430ae1",
       "version_major": 2,
       "version_minor": 0
      },
      "text/plain": [
       "  0%|          | 0/32 [00:00<?, ?it/s]"
      ]
     },
     "metadata": {},
     "output_type": "display_data"
    },
    {
     "name": "stdout",
     "output_type": "stream",
     "text": [
      "Accuracy = 7.233938205002452%\n",
      "Time = 319.8355849850923s\n",
      "make: Entering directory '/opt/genn/EventPropCompiler_CODE'\n"
     ]
    },
    {
     "name": "stderr",
     "output_type": "stream",
     "text": [
      "customUpdate.cc(455): warning #177-D: variable \"batchOffset\" was declared but never referenced\n",
      "\n",
      "neuronUpdate.cc(214): warning #177-D: variable \"lYTrue\" was declared but never referenced\n",
      "\n"
     ]
    },
    {
     "name": "stdout",
     "output_type": "stream",
     "text": [
      "make: Leaving directory '/opt/genn/EventPropCompiler_CODE'\n"
     ]
    },
    {
     "data": {
      "application/vnd.jupyter.widget-view+json": {
       "model_id": "096aa0031b1945a397d463fdc2d43556",
       "version_major": 2,
       "version_minor": 0
      },
      "text/plain": [
       "  0%|          | 0/32 [00:00<?, ?it/s]"
      ]
     },
     "metadata": {},
     "output_type": "display_data"
    },
    {
     "name": "stdout",
     "output_type": "stream",
     "text": [
      "Accuracy = 7.344286414909269%\n",
      "Time = 320.85293639265s\n",
      "339.4749616678804 23.66760392974065\n"
     ]
    }
   ],
   "source": [
    "benchmark(5, 512, 256)"
   ]
  },
  {
   "cell_type": "code",
   "execution_count": null,
   "metadata": {},
   "outputs": [],
   "source": []
  }
 ],
 "metadata": {
  "kernelspec": {
   "display_name": "Python 3 (ipykernel)",
   "language": "python",
   "name": "python3"
  },
  "language_info": {
   "codemirror_mode": {
    "name": "ipython",
    "version": 3
   },
   "file_extension": ".py",
   "mimetype": "text/x-python",
   "name": "python",
   "nbconvert_exporter": "python",
   "pygments_lexer": "ipython3",
   "version": "3.10.12"
  }
 },
 "nbformat": 4,
 "nbformat_minor": 4
}
